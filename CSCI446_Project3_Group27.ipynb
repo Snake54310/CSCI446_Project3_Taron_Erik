{
 "cells": [
  {
   "cell_type": "code",
   "execution_count": 1,
   "id": "e0f0993b",
   "metadata": {},
   "outputs": [],
   "source": [
    "# Parameters\n",
    "GROUP_ID = 'Group27'\n",
    "ALGORITHM = 've' # can be ve or gibbs\n",
    "NETWORK_NAME = 'provided/child.bif' # child, insurance, or win95\n",
    "REPORT = 'Disease' # <var1> ; ...; <vark> # list variables as given in the assignment for the appropriate net-work\n",
    "EVIDENCE_LEVEL = 'None' # {None | Little | Moderate} evidence levels to be tested independently\n",
    "EVIDENCE = '' # <var1> = <val1>; ...; <vark> = <valk> # List variables and values as given in the assignment for the appropriate network and problem."
   ]
  },
  {
   "cell_type": "code",
   "execution_count": 2,
   "id": "35b4947b",
   "metadata": {},
   "outputs": [
    {
     "name": "stdout",
     "output_type": "stream",
     "text": [
      "vars:\n",
      "['BirthAsphyxia', 'HypDistrib', 'HypoxiaInO2', 'CO2', 'ChestXray', 'Grunting', 'LVHreport', 'LowerBodyO2', 'RUQO2', 'CO2Report', 'XrayReport', 'Disease', 'GruntingReport', 'Age', 'LVH', 'DuctFlow', 'CardiacMixing', 'LungParench', 'LungFlow', 'Sick']\n",
      "probs:\n",
      "{'BirthAsphyxia': {'yes': -1, 'no': -1}, 'HypDistrib': {'Equal': -1, 'Unequal': -1}, 'HypoxiaInO2': {'Mild': -1, 'Moderate': -1, 'Severe': -1}, 'CO2': {'Normal': -1, 'Low': -1, 'High': -1}, 'ChestXray': {'Normal': -1, 'Oligaemic': -1, 'Plethoric': -1, 'Grd_Glass': -1, 'Asy/Patch': -1}, 'Grunting': {'yes': -1, 'no': -1}, 'LVHreport': {'yes': -1, 'no': -1}, 'LowerBodyO2': {'<5': -1, '5-12': -1, '12+': -1}, 'RUQO2': {'<5': -1, '5-12': -1, '12+': -1}, 'CO2Report': {'<7.5': -1, '>=7.5': -1}, 'XrayReport': {'Normal': -1, 'Oligaemic': -1, 'Plethoric': -1, 'Grd_Glass': -1, 'Asy/Patchy': -1}, 'Disease': {'PFC': -1, 'TGA': -1, 'Fallot': -1, 'PAIVS': -1, 'TAPVD': -1, 'Lung': -1}, 'GruntingReport': {'yes': -1, 'no': -1}, 'Age': {'0-3_days': -1, '4-10_days': -1, '11-30_days': -1}, 'LVH': {'yes': -1, 'no': -1}, 'DuctFlow': {'Lt_to_Rt': -1, 'None': -1, 'Rt_to_Lt': -1}, 'CardiacMixing': {'None': -1, 'Mild': -1, 'Complete': -1, 'Transp.': -1}, 'LungParench': {'Normal': -1, 'Congested': -1, 'Abnormal': -1}, 'LungFlow': {'Normal': -1, 'Low': -1, 'High': -1}, 'Sick': {'yes': -1, 'no': -1}}\n",
      "varsStates:\n",
      "{'BirthAsphyxia': ['yes', 'no'], 'HypDistrib': ['Equal', 'Unequal'], 'HypoxiaInO2': ['Mild', 'Moderate', 'Severe'], 'CO2': ['Normal', 'Low', 'High'], 'ChestXray': ['Normal', 'Oligaemic', 'Plethoric', 'Grd_Glass', 'Asy/Patch'], 'Grunting': ['yes', 'no'], 'LVHreport': ['yes', 'no'], 'LowerBodyO2': ['<5', '5-12', '12+'], 'RUQO2': ['<5', '5-12', '12+'], 'CO2Report': ['<7.5', '>=7.5'], 'XrayReport': ['Normal', 'Oligaemic', 'Plethoric', 'Grd_Glass', 'Asy/Patchy'], 'Disease': ['PFC', 'TGA', 'Fallot', 'PAIVS', 'TAPVD', 'Lung'], 'GruntingReport': ['yes', 'no'], 'Age': ['0-3_days', '4-10_days', '11-30_days'], 'LVH': ['yes', 'no'], 'DuctFlow': ['Lt_to_Rt', 'None', 'Rt_to_Lt'], 'CardiacMixing': ['None', 'Mild', 'Complete', 'Transp.'], 'LungParench': ['Normal', 'Congested', 'Abnormal'], 'LungFlow': ['Normal', 'Low', 'High'], 'Sick': ['yes', 'no']}\n",
      "run VE\n",
      "Disease, PFC, TGA, Fallot, PAIVS, TAPVD, Lung\n",
      "(-1, -1, -1, -1, -1, -1)\n",
      "\n"
     ]
    }
   ],
   "source": [
    "from CSCI446_Project3_main_Group27 import main\n",
    "\n",
    "main(GROUP_ID, ALGORITHM, NETWORK_NAME, REPORT, EVIDENCE_LEVEL, EVIDENCE)"
   ]
  },
  {
   "cell_type": "code",
   "execution_count": null,
   "id": "0a6081a6-afe8-4e93-8fed-1cad7502c2d4",
   "metadata": {},
   "outputs": [],
   "source": []
  }
 ],
 "metadata": {
  "kernelspec": {
   "display_name": "Python [conda env:base] *",
   "language": "python",
   "name": "conda-base-py"
  },
  "language_info": {
   "codemirror_mode": {
    "name": "ipython",
    "version": 3
   },
   "file_extension": ".py",
   "mimetype": "text/x-python",
   "name": "python",
   "nbconvert_exporter": "python",
   "pygments_lexer": "ipython3",
   "version": "3.13.5"
  }
 },
 "nbformat": 4,
 "nbformat_minor": 5
}
