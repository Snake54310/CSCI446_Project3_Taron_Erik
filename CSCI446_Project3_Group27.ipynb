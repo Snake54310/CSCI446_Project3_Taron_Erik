{
 "cells": [
  {
   "cell_type": "code",
   "execution_count": 1,
   "id": "e0f0993b",
   "metadata": {},
   "outputs": [],
   "source": [
    "# Parameters\n",
    "GROUP_ID = 'Group27'\n",
    "ALGORITHM = 've' # can be ve or gibbs\n",
    "NETWORK_NAME = 'provided/win95pts.bif' # child, insurance, or win95pts\n",
    "REPORT = 'Problem1 ; Problem2 ; Problem3 ; Problem4 ; Problem5 ; Problem6' # <var1> ; ...; <vark> # list variables as given in the assignment for the appropriate net-work\n",
    "# MedCost ; ILiCost ; PropCost\n",
    "# Problem1 ; Problem2 ; Problem3 ; Problem4 ; Problem5 ; Problem6\n",
    "# Disease\n",
    "EVIDENCE_LEVEL = 'None' # {None | Little | Moderate} evidence levels to be tested independently\n",
    "EVIDENCE = '' # <var1> = <val1>; ...; <vark> = <valk> # List variables and values as given in the assignment for the appropriate network and problem."
   ]
  },
  {
   "cell_type": "code",
   "execution_count": 2,
   "id": "35b4947b",
   "metadata": {},
   "outputs": [
    {
     "name": "stdout",
     "output_type": "stream",
     "text": [
      "run VE\n",
      "Variable = Problem1\n",
      "Found Probabilities: {'Normal_Output': np.float64(0.5702151268534605), 'No_Output': np.float64(0.4297848731465395)}\n",
      "Variable = Problem2\n",
      "Found Probabilities: {'OK': np.float64(0.9479115779954473), 'Too_Long': np.float64(0.05208842200455296)}\n",
      "Variable = Problem3\n",
      "Found Probabilities: {'No': np.float64(0.10779211790371246), 'Yes': np.float64(0.8922078820962874)}\n",
      "Variable = Problem4\n",
      "Found Probabilities: {'No': np.float64(0.08562472499999998), 'Yes': np.float64(0.9143752749999997)}\n",
      "Variable = Problem5\n",
      "Found Probabilities: {'No': np.float64(0.13778304157445004), 'Yes': np.float64(0.8622169584255498)}\n",
      "Variable = Problem6\n",
      "Found Probabilities: {'No': np.float64(0.8878086532776931), 'Yes': np.float64(0.1121913467223072)}\n",
      "Problem1, Normal_Output, No_Output\n",
      "(0.57, 0.43)\n",
      "\n",
      "Problem1, Normal_Output, No_Output\n",
      "(0.57, 0.43)\n",
      "Problem2, OK, Too_Long\n",
      "(0.95, 0.05)\n",
      "\n",
      "Problem1, Normal_Output, No_Output\n",
      "(0.57, 0.43)\n",
      "Problem2, OK, Too_Long\n",
      "(0.95, 0.05)\n",
      "Problem3, No, Yes\n",
      "(0.11, 0.89)\n",
      "\n",
      "Problem1, Normal_Output, No_Output\n",
      "(0.57, 0.43)\n",
      "Problem2, OK, Too_Long\n",
      "(0.95, 0.05)\n",
      "Problem3, No, Yes\n",
      "(0.11, 0.89)\n",
      "Problem4, No, Yes\n",
      "(0.09, 0.91)\n",
      "\n",
      "Problem1, Normal_Output, No_Output\n",
      "(0.57, 0.43)\n",
      "Problem2, OK, Too_Long\n",
      "(0.95, 0.05)\n",
      "Problem3, No, Yes\n",
      "(0.11, 0.89)\n",
      "Problem4, No, Yes\n",
      "(0.09, 0.91)\n",
      "Problem5, No, Yes\n",
      "(0.14, 0.86)\n",
      "\n",
      "Problem1, Normal_Output, No_Output\n",
      "(0.57, 0.43)\n",
      "Problem2, OK, Too_Long\n",
      "(0.95, 0.05)\n",
      "Problem3, No, Yes\n",
      "(0.11, 0.89)\n",
      "Problem4, No, Yes\n",
      "(0.09, 0.91)\n",
      "Problem5, No, Yes\n",
      "(0.14, 0.86)\n",
      "Problem6, No, Yes\n",
      "(0.89, 0.11)\n",
      "\n"
     ]
    }
   ],
   "source": [
    "from CSCI446_Project3_main_Group27 import main\n",
    "\n",
    "main(GROUP_ID, ALGORITHM, NETWORK_NAME, REPORT, EVIDENCE_LEVEL, EVIDENCE)"
   ]
  },
  {
   "cell_type": "code",
   "execution_count": null,
   "id": "0a6081a6-afe8-4e93-8fed-1cad7502c2d4",
   "metadata": {},
   "outputs": [],
   "source": []
  }
 ],
 "metadata": {
  "kernelspec": {
   "display_name": "Python [conda env:base] *",
   "language": "python",
   "name": "conda-base-py"
  },
  "language_info": {
   "codemirror_mode": {
    "name": "ipython",
    "version": 3
   },
   "file_extension": ".py",
   "mimetype": "text/x-python",
   "name": "python",
   "nbconvert_exporter": "python",
   "pygments_lexer": "ipython3",
   "version": "3.13.5"
  }
 },
 "nbformat": 4,
 "nbformat_minor": 5
}
