{
 "cells": [
  {
   "cell_type": "code",
   "execution_count": 1,
   "id": "e0f0993b",
   "metadata": {},
   "outputs": [],
   "source": [
    "# Parameters\n",
    "GROUP_ID = 'Group27'\n",
    "ALGORITHM = 've' # can be ve or gibbs\n",
    "NETWORK_NAME = 'provided/child.bif' # child, insurance, or win95\n",
    "REPORT = 'Disease' # <var1> ; ...; <vark> # list variables as given in the assignment for the appropriate net-work\n",
    "EVIDENCE_LEVEL = 'None' # {None | Little | Moderate} evidence levels to be tested independently\n",
    "EVIDENCE = '' # <var1> = <val1>; ...; <vark> = <valk> # List variables and values as given in the assignment for the appropriate network and problem."
   ]
  },
  {
   "cell_type": "code",
   "execution_count": 2,
   "id": "35b4947b",
   "metadata": {},
   "outputs": [
    {
     "name": "stdout",
     "output_type": "stream",
     "text": [
      "varNumParents: \n",
      "{'BirthAsphyxia': 0, 'HypDistrib': 2, 'HypoxiaInO2': 2, 'CO2': 1, 'ChestXray': 2, 'Grunting': 2, 'LVHreport': 1, 'LowerBodyO2': 2, 'RUQO2': 1, 'CO2Report': 1, 'XrayReport': 1, 'Disease': 1, 'GruntingReport': 1, 'Age': 2, 'LVH': 1, 'DuctFlow': 1, 'CardiacMixing': 1, 'LungParench': 1, 'LungFlow': 1, 'Sick': 1}\n",
      "run VE\n",
      "Variable = Disease\n",
      "Found Probabilities: {'PFC': -1, 'TGA': -1, 'Fallot': -1, 'PAIVS': -1, 'TAPVD': -1, 'Lung': -1}\n",
      "Disease, PFC, TGA, Fallot, PAIVS, TAPVD, Lung\n",
      "(-1, -1, -1, -1, -1, -1)\n",
      "\n"
     ]
    }
   ],
   "source": [
    "from CSCI446_Project3_main_Group27 import main\n",
    "\n",
    "main(GROUP_ID, ALGORITHM, NETWORK_NAME, REPORT, EVIDENCE_LEVEL, EVIDENCE)"
   ]
  },
  {
   "cell_type": "code",
   "execution_count": null,
   "id": "0a6081a6-afe8-4e93-8fed-1cad7502c2d4",
   "metadata": {},
   "outputs": [],
   "source": []
  }
 ],
 "metadata": {
  "kernelspec": {
   "display_name": "Python [conda env:base] *",
   "language": "python",
   "name": "conda-base-py"
  },
  "language_info": {
   "codemirror_mode": {
    "name": "ipython",
    "version": 3
   },
   "file_extension": ".py",
   "mimetype": "text/x-python",
   "name": "python",
   "nbconvert_exporter": "python",
   "pygments_lexer": "ipython3",
   "version": "3.13.5"
  }
 },
 "nbformat": 4,
 "nbformat_minor": 5
}
