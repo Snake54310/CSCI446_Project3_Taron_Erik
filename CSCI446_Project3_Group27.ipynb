{
 "cells": [
  {
   "cell_type": "code",
   "execution_count": 1,
   "id": "e0f0993b",
   "metadata": {},
   "outputs": [],
   "source": [
    "# Parameters\n",
    "GROUP_ID = 'Group27'\n",
    "ALGORITHM = 've' # can be ve or gibbs\n",
    "NETWORK_NAME = 'provided/insurance.bif' # child, insurance, or win95pts\n",
    "REPORT = 'MedCost ; ILiCost ; PropCost' # <var1> ; ...; <vark> # list variables as given in the assignment for the appropriate net-work\n",
    "# MedCost ; ILiCost ; PropCost\n",
    "# Problem1 ; Problem2 ; Problem3 ; Problem4 ; Problem5 ; Problem6\n",
    "# Disease\n",
    "EVIDENCE_LEVEL = 'Little' # {None | Little | Moderate} evidence levels to be tested independently\n",
    "EVIDENCE = 'ge=Adolescent; GoodStudent=False; SeniorTrain=False; DrivQuality=Poor' # <var1> = <val1>; ...; <vark> = <valk> # List variables and values as given in the assignment for the appropriate network and problem.\n",
    "# 'PrtPScript = Yes'"
   ]
  },
  {
   "cell_type": "code",
   "execution_count": 2,
   "id": "35b4947b",
   "metadata": {},
   "outputs": [
    {
     "name": "stdout",
     "output_type": "stream",
     "text": [
      "[['ge', 'Adolescent'], ['GoodStudent', 'False'], ['SeniorTrain', 'False'], ['DrivQuality', 'Poor']]\n",
      "evidenceVar: ge\n",
      "evidenceState: Adolescent\n",
      "evidenceVar: GoodStudent\n",
      "evidenceState: False\n",
      "evidenceVar: SeniorTrain\n",
      "evidenceState: False\n",
      "evidenceVar: DrivQuality\n",
      "evidenceState: Poor\n",
      "run VE\n",
      "Variable = MedCost\n",
      "Found Probabilities: {'Thousand': np.float64(0.8123566259401431), 'TenThou': np.float64(0.08544115341950624), 'HundredThou': np.float64(0.059078073573866074), 'Million': np.float64(0.04312414706648471)}\n",
      "Variable = ILiCost\n",
      "Found Probabilities: {'Thousand': np.float64(0.9178551454436481), 'TenThou': np.float64(0.04117425130420058), 'HundredThou': np.float64(0.02458232105810771), 'Million': np.float64(0.016388282194043716)}\n",
      "Variable = PropCost\n",
      "Found Probabilities: {'Thousand': np.float64(0.23938681461157527), 'TenThou': np.float64(0.41639348327761383), 'HundredThou': np.float64(0.3153905800211007), 'Million': np.float64(0.028829122032570847)}\n",
      "MedCost, Thousand, TenThou, HundredThou, Million\n",
      "(0.81, 0.09, 0.06, 0.04)\n",
      "\n",
      "MedCost, Thousand, TenThou, HundredThou, Million\n",
      "(0.81, 0.09, 0.06, 0.04)\n",
      "ILiCost, Thousand, TenThou, HundredThou, Million\n",
      "(0.92, 0.04, 0.02, 0.02)\n",
      "\n",
      "MedCost, Thousand, TenThou, HundredThou, Million\n",
      "(0.81, 0.09, 0.06, 0.04)\n",
      "ILiCost, Thousand, TenThou, HundredThou, Million\n",
      "(0.92, 0.04, 0.02, 0.02)\n",
      "PropCost, Thousand, TenThou, HundredThou, Million\n",
      "(0.24, 0.42, 0.32, 0.03)\n",
      "\n"
     ]
    }
   ],
   "source": [
    "from CSCI446_Project3_main_Group27 import main\n",
    "\n",
    "main(GROUP_ID, ALGORITHM, NETWORK_NAME, REPORT, EVIDENCE_LEVEL, EVIDENCE)"
   ]
  },
  {
   "cell_type": "code",
   "execution_count": null,
   "id": "0a6081a6-afe8-4e93-8fed-1cad7502c2d4",
   "metadata": {},
   "outputs": [],
   "source": []
  }
 ],
 "metadata": {
  "kernelspec": {
   "display_name": "Python [conda env:base] *",
   "language": "python",
   "name": "conda-base-py"
  },
  "language_info": {
   "codemirror_mode": {
    "name": "ipython",
    "version": 3
   },
   "file_extension": ".py",
   "mimetype": "text/x-python",
   "name": "python",
   "nbconvert_exporter": "python",
   "pygments_lexer": "ipython3",
   "version": "3.13.5"
  }
 },
 "nbformat": 4,
 "nbformat_minor": 5
}
